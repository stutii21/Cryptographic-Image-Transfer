{
  "cells": [
    {
      "cell_type": "markdown",
      "metadata": {
        "id": "view-in-github",
        "colab_type": "text"
      },
      "source": [
        "<a href=\"https://colab.research.google.com/github/stutii21/Cryptographic-Image-Transfer/blob/main/Cryptographic_Image_Transfer.ipynb\" target=\"_parent\"><img src=\"https://colab.research.google.com/assets/colab-badge.svg\" alt=\"Open In Colab\"/></a>"
      ]
    },
    {
      "cell_type": "markdown",
      "metadata": {
        "id": "v5rjfZPJJmWX"
      },
      "source": [
        "**Key Generation**\n",
        "\n",
        "\n",
        "\n",
        "\n",
        "This part generates a pair of RSA keys: a public key (used for encryption) and a private key (used for decryption). It saves these keys to separate files.\n"
      ]
    },
    {
      "cell_type": "code",
      "execution_count": null,
      "metadata": {
        "id": "BOG6cK9dKKui"
      },
      "outputs": [],
      "source": [
        "def generate_keys():\n",
        "    key = RSA.generate(2048)  # Generate a 2048-bit RSA key pair\n",
        "    private_key = key.export_key()  # Export the private key\n",
        "    public_key = key.publickey().export_key()  # Export the public key\n",
        "\n",
        "    with open(\"private_key.pem\", \"wb\") as priv_file:\n",
        "        priv_file.write(private_key)  # Save private key to a file\n",
        "\n",
        "    with open(\"public_key.pem\", \"wb\") as pub_file:\n",
        "        pub_file.write(public_key)  # Save public key to a file\n"
      ]
    },
    {
      "cell_type": "markdown",
      "metadata": {
        "id": "_Lpiqd71KR34"
      },
      "source": [
        " **Image Encryption**\n",
        "\n",
        "\n",
        "This function encrypts an image using the RSA public key."
      ]
    },
    {
      "cell_type": "code",
      "execution_count": null,
      "metadata": {
        "id": "3KblIHrHKtJM"
      },
      "outputs": [],
      "source": [
        "def encrypt_image(image_path, public_key_path):\n",
        "    with open(public_key_path, \"rb\") as key_file:\n",
        "        public_key = RSA.import_key(key_file.read())  # Load public key\n",
        "\n",
        "    cipher_rsa = PKCS1_OAEP.new(public_key)  # Create an RSA cipher object\n",
        "\n",
        "    with open(image_path, \"rb\") as image_file:\n",
        "        image_data = image_file.read()  # Read image data\n",
        "\n",
        "    encrypted_data = cipher_rsa.encrypt(image_data)  # Encrypt the image data\n",
        "\n",
        "    encrypted_file_path = image_path + \".enc\"\n",
        "    with open(encrypted_file_path, \"wb\") as enc_file:\n",
        "        enc_file.write(encrypted_data)  # Save encrypted data to a new file\n",
        "\n",
        "    print(f\"Image encrypted and saved to {encrypted_file_path}\")\n",
        "    return encrypted_file_path\n"
      ]
    },
    {
      "cell_type": "markdown",
      "metadata": {
        "id": "OYqX9uksKzGy"
      },
      "source": [
        "**Image Decryption**\n",
        "\n",
        "\n",
        "This function decrypts the encrypted image back into its original form using the RSA private key.\n",
        "\n"
      ]
    },
    {
      "cell_type": "code",
      "execution_count": null,
      "metadata": {
        "id": "i11FIyLuK-LQ"
      },
      "outputs": [],
      "source": [
        "def decrypt_image(encrypted_path, private_key_path):\n",
        "    with open(private_key_path, \"rb\") as key_file:\n",
        "        private_key = RSA.import_key(key_file.read())  # Load private key\n",
        "\n",
        "    cipher_rsa = PKCS1_OAEP.new(private_key)  # Create an RSA cipher object\n",
        "\n",
        "    with open(encrypted_path, \"rb\") as enc_file:\n",
        "        encrypted_data = enc_file.read()  # Read encrypted data\n",
        "\n",
        "    decrypted_data = cipher_rsa.decrypt(encrypted_data)  # Decrypt the data\n",
        "\n",
        "    original_file_path = encrypted_path.replace(\".enc\", \"_decrypted.png\")\n",
        "    with open(original_file_path, \"wb\") as dec_file:\n",
        "        dec_file.write(decrypted_data)  # Save decrypted image\n",
        "\n",
        "    print(f\"Image decrypted and saved to {original_file_path}\")\n",
        "    return original_file_path\n"
      ]
    },
    {
      "cell_type": "markdown",
      "metadata": {
        "id": "2iR5CpOOLPmH"
      },
      "source": [
        "**Server for Sending the Encrypted Image**\n",
        "\n",
        "\n",
        "The server reads the encrypted image and sends it to a connected client over a socket.\n",
        "\n"
      ]
    },
    {
      "cell_type": "code",
      "execution_count": null,
      "metadata": {
        "id": "iXKOUmbFLaw5"
      },
      "outputs": [],
      "source": [
        "def server(host=\"127.0.0.1\", port=65432):\n",
        "    server_socket = socket.socket(socket.AF_INET, socket.SOCK_STREAM)\n",
        "    server_socket.bind((host, port))\n",
        "    server_socket.listen(1)\n",
        "    print(f\"Server listening on {host}:{port}\")\n",
        "\n",
        "    conn, addr = server_socket.accept()\n",
        "    print(f\"Connection established with {addr}\")\n",
        "\n",
        "    encrypted_path = \"image_to_send.png.enc\"\n",
        "    with open(encrypted_path, \"rb\") as enc_file:\n",
        "        conn.sendall(enc_file.read())  # Send encrypted image to client\n",
        "\n",
        "    print(\"Encrypted image sent.\")\n",
        "    conn.close()\n",
        "    server_socket.close()\n"
      ]
    },
    {
      "cell_type": "markdown",
      "metadata": {
        "id": "6dMRzMyuLjek"
      },
      "source": [
        "**Client for Receiving the Encrypted Image**\n",
        "\n",
        "\n",
        "The client receives the encrypted image sent by the server."
      ]
    },
    {
      "cell_type": "code",
      "execution_count": null,
      "metadata": {
        "id": "shqDMCNDLuy2"
      },
      "outputs": [],
      "source": [
        "def client(host=\"127.0.0.1\", port=65432, save_path=\"received_image.png.enc\"):\n",
        "    client_socket = socket.socket(socket.AF_INET, socket.SOCK_STREAM)\n",
        "    client_socket.connect((host, port))  # Connect to server\n",
        "\n",
        "    with open(save_path, \"wb\") as file:\n",
        "        while True:\n",
        "            data = client_socket.recv(4096)  # Receive data in chunks\n",
        "            if not data:\n",
        "                break\n",
        "            file.write(data)  # Save received data to a file\n",
        "\n",
        "    print(f\"Encrypted image received and saved as {save_path}\")\n",
        "    client_socket.close()\n",
        "    return save_path\n"
      ]
    },
    {
      "cell_type": "markdown",
      "metadata": {
        "id": "dYKy7hMdL9nM"
      },
      "source": [
        " **Main Program**\n",
        "\n",
        "\n",
        "The main script allows the user to choose between generating keys, encrypting, decrypting, or running the server/client."
      ]
    },
    {
      "cell_type": "code",
      "execution_count": null,
      "metadata": {
        "colab": {
          "background_save": true,
          "base_uri": "https://localhost:8080/"
        },
        "id": "7VVT8PNVMIso",
        "outputId": "644f3339-f9dc-4f6e-83f1-d604b58a7bda"
      },
      "outputs": [
        {
          "metadata": {
            "tags": null
          },
          "name": "stdout",
          "output_type": "stream",
          "text": [
            "1. Generate RSA Keys\n",
            "2. Encrypt Image\n",
            "3. Decrypt Image\n",
            "4. Run Server\n",
            "5. Run Client\n"
          ]
        }
      ],
      "source": [
        "if __name__ == \"__main__\":\n",
        "    print(\"1. Generate RSA Keys\\n2. Encrypt Image\\n3. Decrypt Image\\n4. Run Server\\n5. Run Client\")\n",
        "    choice = int(input(\"Enter your choice: \"))\n",
        "\n",
        "    if choice == 1:\n",
        "        generate_keys()\n",
        "    elif choice == 2:\n",
        "        image_path = input(\"Enter image path: \")\n",
        "        public_key_path = input(\"Enter public key path: \")\n",
        "        encrypt_image(image_path, public_key_path)\n",
        "    elif choice == 3:\n",
        "        encrypted_path = input(\"Enter encrypted file path: \")\n",
        "        private_key_path = input(\"Enter private key path: \")\n",
        "        decrypt_image(encrypted_path, private_key_path)\n",
        "    elif choice == 4:\n",
        "        server()\n",
        "    elif choice == 5:\n",
        "        save_path = client()\n",
        "        print(f\"Saved encrypted file: {save_path}\")\n",
        "    else:\n",
        "        print(\"Invalid choice.\")\n"
      ]
    }
  ],
  "metadata": {
    "colab": {
      "provenance": [],
      "authorship_tag": "ABX9TyNPIf/W+B1+L4yqgbTguEpN",
      "include_colab_link": true
    },
    "kernelspec": {
      "display_name": "Python 3",
      "name": "python3"
    },
    "language_info": {
      "name": "python"
    }
  },
  "nbformat": 4,
  "nbformat_minor": 0
}